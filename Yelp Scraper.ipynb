{
 "cells": [
  {
   "cell_type": "code",
   "execution_count": 3,
   "metadata": {},
   "outputs": [],
   "source": [
    "import requests\n",
    "from bs4 import BeautifulSoup\n",
    "import json\n",
    "\n",
    "url = 'https://api.yelp.com/v3/businesses/search'\n",
    "api_key = 'w9S1fRC4MQk8MQ9R6X_ez1LNxZiNolv78hMEBmQnqAYdkCJJnNiEJBJXOONBSf_dKMHdYlzEzs-1yMFwi65uhxZ57PzWdCigBlrAii0ZsqqrcKlF6KvZ66bHOSE-YHYx'\n",
    "\n",
    "def get_business(location, term, api_key):\n",
    "    headers = {'Authorization': 'Bearer %s' % api_key}\n",
    "    \n",
    "    data = []\n",
    "    for offset in range(0, 1000, 50):\n",
    "        params = {\n",
    "            'limit': 50,\n",
    "            'location': location.replace(' ','+'),\n",
    "            'term': term.replace(' ','+'),\n",
    "            'offset': offset\n",
    "        }\n",
    "        \n",
    "        response = requests.get(url, headers=headers, params=params)\n",
    "        if response.status_code==200:\n",
    "            data += response.json()['businesses']\n",
    "        elif response.status_code==400:\n",
    "            print('400 Bad Request')\n",
    "            break\n",
    "        return data    "
   ]
  },
  {
   "cell_type": "code",
   "execution_count": 5,
   "metadata": {},
   "outputs": [],
   "source": [
    "malls = get_business('manila','mall',api_key)"
   ]
  },
  {
   "cell_type": "code",
   "execution_count": 6,
   "metadata": {},
   "outputs": [
    {
     "data": {
      "text/plain": [
       "50"
      ]
     },
     "execution_count": 6,
     "metadata": {},
     "output_type": "execute_result"
    }
   ],
   "source": [
    "len(malls)"
   ]
  },
  {
   "cell_type": "code",
   "execution_count": 8,
   "metadata": {},
   "outputs": [
    {
     "data": {
      "text/plain": [
       "{'id': 'z9BEfWMGGD_-MmsMTEToQA',\n",
       " 'alias': 'sm-mall-of-asia-pasay-2',\n",
       " 'name': 'SM Mall of Asia',\n",
       " 'image_url': 'https://s3-media3.fl.yelpcdn.com/bphoto/KnVvy9fGuR3UTFLjX0EXbw/o.jpg',\n",
       " 'is_closed': False,\n",
       " 'url': 'https://www.yelp.com/biz/sm-mall-of-asia-pasay-2?adjust_creative=Y2XVmRqOxCB0RTNuWq-PLg&utm_campaign=yelp_api_v3&utm_medium=api_v3_business_search&utm_source=Y2XVmRqOxCB0RTNuWq-PLg',\n",
       " 'review_count': 66,\n",
       " 'categories': [{'alias': 'shoppingcenters', 'title': 'Shopping Centers'}],\n",
       " 'rating': 4.0,\n",
       " 'coordinates': {'latitude': 14.535068, 'longitude': 120.982115},\n",
       " 'transactions': [],\n",
       " 'price': '₱₱',\n",
       " 'location': {'address1': 'SM Central Business Park I',\n",
       "  'address2': 'Island A, Bay City',\n",
       "  'address3': None,\n",
       "  'city': 'Pasay',\n",
       "  'zip_code': '1300',\n",
       "  'country': 'PH',\n",
       "  'state': 'NCR',\n",
       "  'display_address': ['SM Central Business Park I',\n",
       "   'Island A, Bay City',\n",
       "   'Pasay, 1300 Metro Manila',\n",
       "   'Philippines']},\n",
       " 'phone': '+6325560680',\n",
       " 'display_phone': '+63 2 556 0680',\n",
       " 'distance': 5746.885907011751}"
      ]
     },
     "execution_count": 8,
     "metadata": {},
     "output_type": "execute_result"
    }
   ],
   "source": [
    "malls[0]"
   ]
  },
  {
   "cell_type": "code",
   "execution_count": null,
   "metadata": {},
   "outputs": [],
   "source": []
  }
 ],
 "metadata": {
  "kernelspec": {
   "display_name": "Python 3",
   "language": "python",
   "name": "python3"
  },
  "language_info": {
   "codemirror_mode": {
    "name": "ipython",
    "version": 3
   },
   "file_extension": ".py",
   "mimetype": "text/x-python",
   "name": "python",
   "nbconvert_exporter": "python",
   "pygments_lexer": "ipython3",
   "version": "3.8.3"
  }
 },
 "nbformat": 4,
 "nbformat_minor": 4
}
