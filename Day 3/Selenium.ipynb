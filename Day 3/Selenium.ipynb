{
 "cells": [
  {
   "cell_type": "code",
   "execution_count": 1,
   "metadata": {},
   "outputs": [
    {
     "name": "stdout",
     "output_type": "stream",
     "text": [
      "Requirement already satisfied: selenium in c:\\users\\sally\\anaconda3\\lib\\site-packages (3.141.0)\n",
      "Requirement already satisfied: urllib3 in c:\\users\\sally\\anaconda3\\lib\\site-packages (from selenium) (1.25.9)\n"
     ]
    }
   ],
   "source": [
    "!pip install selenium"
   ]
  },
  {
   "cell_type": "code",
   "execution_count": 4,
   "metadata": {},
   "outputs": [
    {
     "name": "stderr",
     "output_type": "stream",
     "text": [
      "'which' is not recognized as an internal or external command,\n",
      "operable program or batch file.\n"
     ]
    }
   ],
   "source": [
    "!which chromedriver"
   ]
  },
  {
   "cell_type": "code",
   "execution_count": 9,
   "metadata": {},
   "outputs": [],
   "source": [
    "from selenium import webdriver\n",
    "from selenium.webdriver.common.keys import Keys\n",
    "\n",
    "import time\n",
    "\n",
    "PATH = '/Windows/chromedriver'\n",
    "driver =webdriver.Chrome(PATH)\n",
    "\n",
    "driver.get('https:/www.google.com')\n",
    "\n",
    "search = driver.find_element_by_name('q')\n",
    "search.send_keys('Kaye Yao')\n",
    "search.send_keys(Keys.RETURN)\n",
    "time.sleep(15)\n",
    "\n",
    "driver.quit()"
   ]
  },
  {
   "cell_type": "code",
   "execution_count": 12,
   "metadata": {},
   "outputs": [],
   "source": [
    "from selenium import webdriver\n",
    "from selenium.webdriver.common.keys import Keys\n",
    "\n",
    "import time\n",
    "\n",
    "PATH = '/Windows/chromedriver'\n",
    "driver =webdriver.Chrome(PATH)\n",
    "\n",
    "driver.get('https:/www.imdb.com/')\n",
    "\n",
    "search = driver.find_element_by_id('suggestion-search')\n",
    "search.send_keys('aliens')\n",
    "search.send_keys(Keys.RETURN)\n",
    "time.sleep(15)\n",
    "\n",
    "x = driver.page_source\n",
    "\n",
    "driver.quit()"
   ]
  },
  {
   "cell_type": "code",
   "execution_count": 14,
   "metadata": {},
   "outputs": [],
   "source": [
    "from bs4 import BeautifulSoup\n",
    "\n",
    "soup = BeautifulSoup(x, 'lxml')"
   ]
  },
  {
   "cell_type": "code",
   "execution_count": 16,
   "metadata": {},
   "outputs": [],
   "source": [
    "contents = soup.find('table', class_ = 'findList')"
   ]
  },
  {
   "cell_type": "code",
   "execution_count": 18,
   "metadata": {},
   "outputs": [
    {
     "name": "stdout",
     "output_type": "stream",
     "text": [
      "<table class=\"findList\">\n",
      " <tbody>\n",
      "  <tr class=\"findResult odd\">\n",
      "   <td class=\"primary_photo\">\n",
      "    <a href=\"/title/tt0090605/?ref_=fn_al_tt_1\">\n",
      "     <img src=\"https://m.media-amazon.com/images/M/MV5BZGU2OGY5ZTYtMWNhYy00NjZiLWI0NjUtZmNhY2JhNDRmODU3XkEyXkFqcGdeQXVyNzkwMjQ5NzM@._V1_UX32_CR0,0,32,44_AL_.jpg\"/>\n",
      "    </a>\n",
      "   </td>\n",
      "   <td class=\"result_text\">\n",
      "    <a href=\"/title/tt0090605/?ref_=fn_al_tt_1\">\n",
      "     Aliens\n",
      "    </a>\n",
      "    (1986)\n",
      "   </td>\n",
      "  </tr>\n",
      "  <tr class=\"findResult even\">\n",
      "   <td class=\"primary_photo\">\n",
      "    <a href=\"/title/tt5458832/?ref_=fn_al_tt_2\">\n",
      "     <img src=\"https://m.media-amazon.com/images/M/MV5BMjIzMTgyMjcyNl5BMl5BanBnXkFtZTgwNzQ2OTMzODE@._V1_UX32_CR0,0,32,44_AL_.jpg\"/>\n",
      "    </a>\n",
      "   </td>\n",
      "   <td class=\"result_text\">\n",
      "    <a href=\"/title/tt5458832/?ref_=fn_al_tt_2\">\n",
      "     The Aliens\n",
      "    </a>\n",
      "    (2016) (TV Mini-Series)\n",
      "   </td>\n",
      "  </tr>\n",
      " </tbody>\n",
      "</table>\n",
      "\n"
     ]
    }
   ],
   "source": [
    "print(contents.prettify())"
   ]
  },
  {
   "cell_type": "code",
   "execution_count": 23,
   "metadata": {},
   "outputs": [
    {
     "data": {
      "text/plain": [
       "[<a href=\"/title/tt0090605/?ref_=fn_al_tt_1\"><img src=\"https://m.media-amazon.com/images/M/MV5BZGU2OGY5ZTYtMWNhYy00NjZiLWI0NjUtZmNhY2JhNDRmODU3XkEyXkFqcGdeQXVyNzkwMjQ5NzM@._V1_UX32_CR0,0,32,44_AL_.jpg\"/></a>,\n",
       " <a href=\"/title/tt0090605/?ref_=fn_al_tt_1\">Aliens</a>,\n",
       " <a href=\"/title/tt5458832/?ref_=fn_al_tt_2\"><img src=\"https://m.media-amazon.com/images/M/MV5BMjIzMTgyMjcyNl5BMl5BanBnXkFtZTgwNzQ2OTMzODE@._V1_UX32_CR0,0,32,44_AL_.jpg\"/></a>,\n",
       " <a href=\"/title/tt5458832/?ref_=fn_al_tt_2\">The Aliens</a>]"
      ]
     },
     "execution_count": 23,
     "metadata": {},
     "output_type": "execute_result"
    }
   ],
   "source": [
    "y = contents.find_all('a')\n",
    "y"
   ]
  },
  {
   "cell_type": "code",
   "execution_count": 24,
   "metadata": {},
   "outputs": [
    {
     "data": {
      "text/plain": [
       "['', 'Aliens', '', 'The Aliens']"
      ]
     },
     "execution_count": 24,
     "metadata": {},
     "output_type": "execute_result"
    }
   ],
   "source": [
    "z=[]\n",
    "\n",
    "for i in y:\n",
    "    z.append(i.get_text())\n",
    "    \n",
    "z"
   ]
  },
  {
   "cell_type": "code",
   "execution_count": 25,
   "metadata": {},
   "outputs": [
    {
     "data": {
      "text/plain": [
       "['Aliens', 'The Aliens']"
      ]
     },
     "execution_count": 25,
     "metadata": {},
     "output_type": "execute_result"
    }
   ],
   "source": [
    "w = list(filter(None, z))\n",
    "w"
   ]
  },
  {
   "cell_type": "code",
   "execution_count": 38,
   "metadata": {},
   "outputs": [],
   "source": [
    "PATH = '/Windows/chromedriver'\n",
    "driver =webdriver.Chrome(PATH)\n",
    "\n",
    "driver.get('https:/www.google.com')\n",
    "\n",
    "search = driver.find_element_by_name('q')\n",
    "search.send_keys('Eskwelabs')\n",
    "search.send_keys(Keys.RETURN)\n",
    "\n",
    "driver.find_element_by_xpath('//*[@id=\"rso\"]/div/div[1]/div/div/div[1]/a/h3/span').click()\n",
    "\n",
    "x = driver.page_source\n",
    "\n",
    "time.sleep(15)\n",
    "\n",
    "driver.quit()"
   ]
  },
  {
   "cell_type": "code",
   "execution_count": 55,
   "metadata": {},
   "outputs": [],
   "source": [
    "soup = BeautifulSoup(x, 'lxml')\n",
    "contents = soup.find('div', class_ = 'py-16')"
   ]
  },
  {
   "cell_type": "code",
   "execution_count": 56,
   "metadata": {},
   "outputs": [
    {
     "data": {
      "text/plain": [
       "[<p>It was amazing to have a place to study <strong>surrounded by people who are as passionate</strong> about data as I am.</p>,\n",
       " <p>Through Eskwelabs, I developed a <em><strong>data-driven mindset</strong></em> and a greater passion for learning.</p>,\n",
       " <p>I feel like <strong>one week in Eskwelabs is like a semester in a college</strong>; you learn so much more here.</p>]"
      ]
     },
     "execution_count": 56,
     "metadata": {},
     "output_type": "execute_result"
    }
   ],
   "source": [
    "testimonials = contents.find_all('p')\n",
    "testimonials"
   ]
  },
  {
   "cell_type": "code",
   "execution_count": 59,
   "metadata": {},
   "outputs": [
    {
     "data": {
      "text/plain": [
       "'Through Eskwelabs, I developed a data-driven mindset and a greater passion for learning.'"
      ]
     },
     "execution_count": 59,
     "metadata": {},
     "output_type": "execute_result"
    }
   ],
   "source": [
    "testimonials[1].get_text()"
   ]
  },
  {
   "cell_type": "code",
   "execution_count": null,
   "metadata": {},
   "outputs": [],
   "source": []
  }
 ],
 "metadata": {
  "kernelspec": {
   "display_name": "Python 3",
   "language": "python",
   "name": "python3"
  },
  "language_info": {
   "codemirror_mode": {
    "name": "ipython",
    "version": 3
   },
   "file_extension": ".py",
   "mimetype": "text/x-python",
   "name": "python",
   "nbconvert_exporter": "python",
   "pygments_lexer": "ipython3",
   "version": "3.8.3"
  }
 },
 "nbformat": 4,
 "nbformat_minor": 4
}
